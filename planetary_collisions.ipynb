{
 "cells": [
  {
   "cell_type": "code",
   "execution_count": 1,
   "metadata": {},
   "outputs": [
    {
     "data": {
      "text/html": [
       "<div id=\"glowscript\" class=\"glowscript\"></div>"
      ],
      "text/plain": [
       "<IPython.core.display.HTML object>"
      ]
     },
     "metadata": {},
     "output_type": "display_data"
    },
    {
     "data": {
      "application/javascript": [
       "if (typeof Jupyter !== \"undefined\") { window.__context = { glowscript_container: $(\"#glowscript\").removeAttr(\"id\")};}else{ element.textContent = ' ';}"
      ],
      "text/plain": [
       "<IPython.core.display.Javascript object>"
      ]
     },
     "metadata": {},
     "output_type": "display_data"
    }
   ],
   "source": [
    "from vpython import *"
   ]
  },
  {
   "cell_type": "code",
   "execution_count": 2,
   "metadata": {},
   "outputs": [],
   "source": [
    "import numpy as np\n",
    "from scipy.spatial.distance import pdist"
   ]
  },
  {
   "cell_type": "code",
   "execution_count": 3,
   "metadata": {},
   "outputs": [],
   "source": [
    "dt = 100\n",
    "R = 1e6\n",
    "max_mass=5e24\n",
    "G = 6.67e-11\n",
    "C=.75"
   ]
  },
  {
   "cell_type": "code",
   "execution_count": 4,
   "metadata": {},
   "outputs": [],
   "source": [
    "\n",
    "class Ball:\n",
    "    def __init__(self,mass,position,v_start):\n",
    "        self.mass = mass\n",
    "        self.position = position #numpy array with 3 numbers\n",
    "        self.momentum = v_start*mass\n",
    "        self.radius = R\n",
    "        self.sphere = sphere(radius=self.radius,pos=toVec(self.position),color=vec(self.mass/max_mass,1,1))\n",
    "        \n",
    "    def update(self,force):\n",
    "        self.momentum+=force*dt\n",
    "        self.position+=self.momentum/self.mass*dt\n",
    "        self.sphere.pos = toVec(self.position)\n",
    "    \n",
    "    def __str__(self):\n",
    "        return str(self.position)\n",
    "    "
   ]
  },
  {
   "cell_type": "code",
   "execution_count": 5,
   "metadata": {},
   "outputs": [],
   "source": [
    "def toVec(ar): #ar should just have 3 nums in it\n",
    "    return vec(ar[0],ar[1],ar[2])"
   ]
  },
  {
   "cell_type": "code",
   "execution_count": 6,
   "metadata": {},
   "outputs": [
    {
     "name": "stdout",
     "output_type": "stream",
     "text": [
      "[[0.         0.22361936 0.35259    0.6121414 ]\n",
      " [0.22361936 0.         0.39123218 0.38942338]\n",
      " [0.35259    0.39123218 0.         0.64061482]\n",
      " [0.6121414  0.38942338 0.64061482 0.        ]]\n"
     ]
    }
   ],
   "source": [
    "from scipy.spatial.distance import squareform\n",
    "print(squareform(pdist(np.random.random([4,2]))))"
   ]
  },
  {
   "cell_type": "code",
   "execution_count": 7,
   "metadata": {},
   "outputs": [],
   "source": [
    "import time\n",
    "def gravity(balls):\n",
    "    t = time.time()\n",
    "    masses = np.array([ball.mass for ball in balls])\n",
    "    ball_positions = np.array([ball.position for ball in balls])\n",
    "    num_balls = ball_positions.shape[0]\n",
    "    dists = squareform(pdist(ball_positions))\n",
    "    #print(time.time()-t)\n",
    "    gravities = []\n",
    "    t = time.time()\n",
    "    for i in range(num_balls):\n",
    "        rmat = ball_positions-np.tile(ball_positions[i],[num_balls,1])\n",
    "        d1 = G*masses*masses[i]/(dists[i]**2+1e-20)\n",
    "        d2 = rmat/np.tile(np.linalg.norm(rmat,axis=-1)+1e-20,[3,1]).T\n",
    "        finalmat = np.multiply(np.tile(d1,[3,1]).T,d2)\n",
    "        gravities.append(np.sum(finalmat,axis=0))\n",
    "    #print(time.time()-t)\n",
    "    return gravities"
   ]
  },
  {
   "cell_type": "code",
   "execution_count": 18,
   "metadata": {},
   "outputs": [],
   "source": [
    "import tensorflow as tf\n",
    "tf.enable_eager_execution()"
   ]
  },
  {
   "cell_type": "code",
   "execution_count": 55,
   "metadata": {},
   "outputs": [],
   "source": [
    "import time\n",
    "tf_G = tf.constant(G,dtype=tf.float64)\n",
    "\n",
    "\n",
    "\n",
    "@tf.function\n",
    "def grav2(masses,ball_positions,dists,num_balls):\n",
    "    gravities = []\n",
    "    for i in range(num_balls):\n",
    "        rmat = ball_positions-tf.tile(tf.reshape(ball_positions[i],[1,3]),[num_balls,1])\n",
    "        d1 = tf_G*masses*masses[i]/(dists[i]**2+1e-20)\n",
    "        d2 = rmat/tf.transpose(tf.tile(tf.reshape(tf.norm(rmat,axis=-1)+1e-20,[1,num_balls]),[3,1]))\n",
    "        finalmat = tf.multiply(tf.transpose(tf.tile(tf.reshape(d1,[1,num_balls]),[3,1])),d2)\n",
    "        gravities.append(tf.reduce_sum(finalmat,axis=0))\n",
    "    return gravities\n",
    "def gravity2(balls):\n",
    "    t = time.time()\n",
    "    masses = np.array([ball.mass for ball in balls],dtype=np.float64)\n",
    "    ball_positions = np.array([ball.position for ball in balls])\n",
    "    num_balls = ball_positions.shape[0]\n",
    "    dists = squareform(pdist(ball_positions))\n",
    "    gravities = grav2(masses,ball_positions,dists,num_balls)\n",
    "    print(time.time()-t)\n",
    "    return gravities"
   ]
  },
  {
   "cell_type": "code",
   "execution_count": 10,
   "metadata": {},
   "outputs": [],
   "source": [
    "class Space:\n",
    "    def __init__(self,balls):\n",
    "        self.balls = balls\n",
    "        self.num_balls = len(self.balls)\n",
    "    def grav_update(self):\n",
    "        gravities = gravity(self.balls)\n",
    "        for i,ball in enumerate(self.balls):\n",
    "            ball.update(gravities[i])\n",
    "    def collision_update(self):\n",
    "        ballmat = np.array([ball.position for ball in self.balls])\n",
    "        dists = squareform(pdist(ballmat))\n",
    "        np.fill_diagonal(dists,3*R)\n",
    "        simple = dists-2*R\n",
    "        colliders = np.nonzero(simple*(simple<0))\n",
    "        if colliders[0].shape[0]!=0:\n",
    "            to_add = [np.array([0,0,0],dtype=np.float64) for _ in range(len(self.balls))]\n",
    "            for i in range(int(colliders[0].shape[0]/2)):\n",
    "                row,col = colliders[0][i],colliders[1][i]\n",
    "                ball1,ball2 = self.balls[row],self.balls[col]\n",
    "                \n",
    "                rrel = ball2.position-ball1.position\n",
    "                rrel_hat = rrel/np.linalg.norm(rrel)\n",
    "                d = 2*R-dists[row][col]\n",
    "                v1 = ball1.momentum/ball1.mass\n",
    "                v2 = ball2.momentum/ball2.mass\n",
    "                vrel = v1-v2\n",
    "                if np.linalg.norm(vrel)==0:\n",
    "                    continue\n",
    "                del_t = d*np.linalg.norm(rrel)/np.dot(vrel,rrel)\n",
    "                ball1.position-=v1*del_t\n",
    "                ball2.position-=v2*del_t\n",
    "                \n",
    "                vcm = (ball1.momentum+ball2.momentum)/(ball1.mass + ball2.mass)\n",
    "                v1cm = v1-vcm\n",
    "                v2cm = v2-vcm\n",
    "\n",
    "                #really just subtracting 2*projection of v1 onto rrel\n",
    "                to_add[row] += v1cm-2*np.dot(v1cm,rrel_hat)*rrel_hat\n",
    "                to_add[col] += v2cm-2*np.dot(v2cm,rrel_hat)*rrel_hat\n",
    "                \n",
    "            for add,ball in zip(to_add,self.balls):\n",
    "                if np.linalg.norm(add)!=0:\n",
    "                    ball.momentum = add*ball.mass*C\n",
    "                    ball.position+=dt*(ball.momentum/ball.mass)"
   ]
  },
  {
   "cell_type": "code",
   "execution_count": 15,
   "metadata": {},
   "outputs": [
    {
     "name": "stdout",
     "output_type": "stream",
     "text": [
      "generated!\n",
      "0.9820401668548584\n",
      "0.9146089553833008\n",
      "0.9129617214202881\n",
      "0.907128095626831\n",
      "0.8992118835449219\n",
      "0.9199731349945068\n",
      "0.8883228302001953\n",
      "0.9332528114318848\n",
      "0.9040822982788086\n",
      "0.8966882228851318\n",
      "1.1008780002593994\n",
      "0.9675240516662598\n",
      "0.9401190280914307\n",
      "1.0022001266479492\n"
     ]
    },
    {
     "ename": "KeyboardInterrupt",
     "evalue": "",
     "output_type": "error",
     "traceback": [
      "\u001b[0;31m---------------------------------------------------------------------------\u001b[0m",
      "\u001b[0;31mKeyboardInterrupt\u001b[0m                         Traceback (most recent call last)",
      "\u001b[0;32m<ipython-input-15-77569170b3e0>\u001b[0m in \u001b[0;36m<module>\u001b[0;34m\u001b[0m\n\u001b[1;32m      7\u001b[0m \u001b[0;32mwhile\u001b[0m \u001b[0mt\u001b[0m\u001b[0;34m<=\u001b[0m\u001b[0;36m1000000\u001b[0m\u001b[0;34m:\u001b[0m\u001b[0;34m\u001b[0m\u001b[0;34m\u001b[0m\u001b[0m\n\u001b[1;32m      8\u001b[0m     \u001b[0mblech\u001b[0m \u001b[0;34m=\u001b[0m \u001b[0mtime\u001b[0m\u001b[0;34m.\u001b[0m\u001b[0mtime\u001b[0m\u001b[0;34m(\u001b[0m\u001b[0;34m)\u001b[0m\u001b[0;34m\u001b[0m\u001b[0;34m\u001b[0m\u001b[0m\n\u001b[0;32m----> 9\u001b[0;31m     \u001b[0mspace\u001b[0m\u001b[0;34m.\u001b[0m\u001b[0mgrav_update\u001b[0m\u001b[0;34m(\u001b[0m\u001b[0;34m)\u001b[0m\u001b[0;34m\u001b[0m\u001b[0;34m\u001b[0m\u001b[0m\n\u001b[0m\u001b[1;32m     10\u001b[0m     \u001b[0mspace\u001b[0m\u001b[0;34m.\u001b[0m\u001b[0mcollision_update\u001b[0m\u001b[0;34m(\u001b[0m\u001b[0;34m)\u001b[0m\u001b[0;34m\u001b[0m\u001b[0;34m\u001b[0m\u001b[0m\n\u001b[1;32m     11\u001b[0m     \u001b[0mprint\u001b[0m\u001b[0;34m(\u001b[0m\u001b[0mtime\u001b[0m\u001b[0;34m.\u001b[0m\u001b[0mtime\u001b[0m\u001b[0;34m(\u001b[0m\u001b[0;34m)\u001b[0m\u001b[0;34m-\u001b[0m\u001b[0mblech\u001b[0m\u001b[0;34m)\u001b[0m\u001b[0;34m\u001b[0m\u001b[0;34m\u001b[0m\u001b[0m\n",
      "\u001b[0;32m<ipython-input-8-ace058979757>\u001b[0m in \u001b[0;36mgrav_update\u001b[0;34m(self)\u001b[0m\n\u001b[1;32m      4\u001b[0m         \u001b[0mself\u001b[0m\u001b[0;34m.\u001b[0m\u001b[0mnum_balls\u001b[0m \u001b[0;34m=\u001b[0m \u001b[0mlen\u001b[0m\u001b[0;34m(\u001b[0m\u001b[0mself\u001b[0m\u001b[0;34m.\u001b[0m\u001b[0mballs\u001b[0m\u001b[0;34m)\u001b[0m\u001b[0;34m\u001b[0m\u001b[0;34m\u001b[0m\u001b[0m\n\u001b[1;32m      5\u001b[0m     \u001b[0;32mdef\u001b[0m \u001b[0mgrav_update\u001b[0m\u001b[0;34m(\u001b[0m\u001b[0mself\u001b[0m\u001b[0;34m)\u001b[0m\u001b[0;34m:\u001b[0m\u001b[0;34m\u001b[0m\u001b[0;34m\u001b[0m\u001b[0m\n\u001b[0;32m----> 6\u001b[0;31m         \u001b[0mgravities\u001b[0m \u001b[0;34m=\u001b[0m \u001b[0mgravity\u001b[0m\u001b[0;34m(\u001b[0m\u001b[0mself\u001b[0m\u001b[0;34m.\u001b[0m\u001b[0mballs\u001b[0m\u001b[0;34m)\u001b[0m\u001b[0;34m\u001b[0m\u001b[0;34m\u001b[0m\u001b[0m\n\u001b[0m\u001b[1;32m      7\u001b[0m         \u001b[0;32mfor\u001b[0m \u001b[0mi\u001b[0m\u001b[0;34m,\u001b[0m\u001b[0mball\u001b[0m \u001b[0;32min\u001b[0m \u001b[0menumerate\u001b[0m\u001b[0;34m(\u001b[0m\u001b[0mself\u001b[0m\u001b[0;34m.\u001b[0m\u001b[0mballs\u001b[0m\u001b[0;34m)\u001b[0m\u001b[0;34m:\u001b[0m\u001b[0;34m\u001b[0m\u001b[0;34m\u001b[0m\u001b[0m\n\u001b[1;32m      8\u001b[0m             \u001b[0mball\u001b[0m\u001b[0;34m.\u001b[0m\u001b[0mupdate\u001b[0m\u001b[0;34m(\u001b[0m\u001b[0mgravities\u001b[0m\u001b[0;34m[\u001b[0m\u001b[0mi\u001b[0m\u001b[0;34m]\u001b[0m\u001b[0;34m)\u001b[0m\u001b[0;34m\u001b[0m\u001b[0;34m\u001b[0m\u001b[0m\n",
      "\u001b[0;32m<ipython-input-7-6d711a3ea212>\u001b[0m in \u001b[0;36mgravity\u001b[0;34m(balls)\u001b[0m\n\u001b[1;32m     14\u001b[0m         \u001b[0md2\u001b[0m \u001b[0;34m=\u001b[0m \u001b[0mrmat\u001b[0m\u001b[0;34m/\u001b[0m\u001b[0mnp\u001b[0m\u001b[0;34m.\u001b[0m\u001b[0mtile\u001b[0m\u001b[0;34m(\u001b[0m\u001b[0mnp\u001b[0m\u001b[0;34m.\u001b[0m\u001b[0mlinalg\u001b[0m\u001b[0;34m.\u001b[0m\u001b[0mnorm\u001b[0m\u001b[0;34m(\u001b[0m\u001b[0mrmat\u001b[0m\u001b[0;34m,\u001b[0m\u001b[0maxis\u001b[0m\u001b[0;34m=\u001b[0m\u001b[0;34m-\u001b[0m\u001b[0;36m1\u001b[0m\u001b[0;34m)\u001b[0m\u001b[0;34m+\u001b[0m\u001b[0;36m1e-20\u001b[0m\u001b[0;34m,\u001b[0m\u001b[0;34m[\u001b[0m\u001b[0;36m3\u001b[0m\u001b[0;34m,\u001b[0m\u001b[0;36m1\u001b[0m\u001b[0;34m]\u001b[0m\u001b[0;34m)\u001b[0m\u001b[0;34m.\u001b[0m\u001b[0mT\u001b[0m\u001b[0;34m\u001b[0m\u001b[0;34m\u001b[0m\u001b[0m\n\u001b[1;32m     15\u001b[0m         \u001b[0mfinalmat\u001b[0m \u001b[0;34m=\u001b[0m \u001b[0mnp\u001b[0m\u001b[0;34m.\u001b[0m\u001b[0mmultiply\u001b[0m\u001b[0;34m(\u001b[0m\u001b[0mnp\u001b[0m\u001b[0;34m.\u001b[0m\u001b[0mtile\u001b[0m\u001b[0;34m(\u001b[0m\u001b[0md1\u001b[0m\u001b[0;34m,\u001b[0m\u001b[0;34m[\u001b[0m\u001b[0;36m3\u001b[0m\u001b[0;34m,\u001b[0m\u001b[0;36m1\u001b[0m\u001b[0;34m]\u001b[0m\u001b[0;34m)\u001b[0m\u001b[0;34m.\u001b[0m\u001b[0mT\u001b[0m\u001b[0;34m,\u001b[0m\u001b[0md2\u001b[0m\u001b[0;34m)\u001b[0m\u001b[0;34m\u001b[0m\u001b[0;34m\u001b[0m\u001b[0m\n\u001b[0;32m---> 16\u001b[0;31m         \u001b[0mgravities\u001b[0m\u001b[0;34m.\u001b[0m\u001b[0mappend\u001b[0m\u001b[0;34m(\u001b[0m\u001b[0mnp\u001b[0m\u001b[0;34m.\u001b[0m\u001b[0msum\u001b[0m\u001b[0;34m(\u001b[0m\u001b[0mfinalmat\u001b[0m\u001b[0;34m,\u001b[0m\u001b[0maxis\u001b[0m\u001b[0;34m=\u001b[0m\u001b[0;36m0\u001b[0m\u001b[0;34m)\u001b[0m\u001b[0;34m)\u001b[0m\u001b[0;34m\u001b[0m\u001b[0;34m\u001b[0m\u001b[0m\n\u001b[0m\u001b[1;32m     17\u001b[0m     \u001b[0;31m#print(time.time()-t)\u001b[0m\u001b[0;34m\u001b[0m\u001b[0;34m\u001b[0m\u001b[0;34m\u001b[0m\u001b[0m\n\u001b[1;32m     18\u001b[0m     \u001b[0;32mreturn\u001b[0m \u001b[0mgravities\u001b[0m\u001b[0;34m\u001b[0m\u001b[0;34m\u001b[0m\u001b[0m\n",
      "\u001b[0;32m~/anaconda3/lib/python3.6/site-packages/numpy/core/fromnumeric.py\u001b[0m in \u001b[0;36msum\u001b[0;34m(a, axis, dtype, out, keepdims, initial)\u001b[0m\n\u001b[1;32m   2074\u001b[0m \u001b[0;34m\u001b[0m\u001b[0m\n\u001b[1;32m   2075\u001b[0m     return _wrapreduction(a, np.add, 'sum', axis, dtype, out, keepdims=keepdims,\n\u001b[0;32m-> 2076\u001b[0;31m                           initial=initial)\n\u001b[0m\u001b[1;32m   2077\u001b[0m \u001b[0;34m\u001b[0m\u001b[0m\n\u001b[1;32m   2078\u001b[0m \u001b[0;34m\u001b[0m\u001b[0m\n",
      "\u001b[0;32m~/anaconda3/lib/python3.6/site-packages/numpy/core/fromnumeric.py\u001b[0m in \u001b[0;36m_wrapreduction\u001b[0;34m(obj, ufunc, method, axis, dtype, out, **kwargs)\u001b[0m\n\u001b[1;32m     84\u001b[0m                 \u001b[0;32mreturn\u001b[0m \u001b[0mreduction\u001b[0m\u001b[0;34m(\u001b[0m\u001b[0maxis\u001b[0m\u001b[0;34m=\u001b[0m\u001b[0maxis\u001b[0m\u001b[0;34m,\u001b[0m \u001b[0mout\u001b[0m\u001b[0;34m=\u001b[0m\u001b[0mout\u001b[0m\u001b[0;34m,\u001b[0m \u001b[0;34m**\u001b[0m\u001b[0mpasskwargs\u001b[0m\u001b[0;34m)\u001b[0m\u001b[0;34m\u001b[0m\u001b[0;34m\u001b[0m\u001b[0m\n\u001b[1;32m     85\u001b[0m \u001b[0;34m\u001b[0m\u001b[0m\n\u001b[0;32m---> 86\u001b[0;31m     \u001b[0;32mreturn\u001b[0m \u001b[0mufunc\u001b[0m\u001b[0;34m.\u001b[0m\u001b[0mreduce\u001b[0m\u001b[0;34m(\u001b[0m\u001b[0mobj\u001b[0m\u001b[0;34m,\u001b[0m \u001b[0maxis\u001b[0m\u001b[0;34m,\u001b[0m \u001b[0mdtype\u001b[0m\u001b[0;34m,\u001b[0m \u001b[0mout\u001b[0m\u001b[0;34m,\u001b[0m \u001b[0;34m**\u001b[0m\u001b[0mpasskwargs\u001b[0m\u001b[0;34m)\u001b[0m\u001b[0;34m\u001b[0m\u001b[0;34m\u001b[0m\u001b[0m\n\u001b[0m\u001b[1;32m     87\u001b[0m \u001b[0;34m\u001b[0m\u001b[0m\n\u001b[1;32m     88\u001b[0m \u001b[0;34m\u001b[0m\u001b[0m\n",
      "\u001b[0;31mKeyboardInterrupt\u001b[0m: "
     ]
    }
   ],
   "source": [
    "import time\n",
    "balls = [Ball(1e3,np.array([i*3,(i%2)*4,(i%3)*2],dtype=np.float64)*10,np.random.random(3)) for i in range(2000)]\n",
    "print('generated!')\n",
    "space = Space(balls)\n",
    "t = 0\n",
    "plot = gcurve()\n",
    "while t<=1000000:\n",
    "    blech = time.time()\n",
    "    space.grav_update()\n",
    "    space.collision_update()\n",
    "    print(time.time()-blech)\n",
    "    plot.plot(t,np.linalg.norm(space.balls[0].position-space.balls[1].position))\n",
    "    t+=dt\n",
    "    #rate(10000000)"
   ]
  },
  {
   "cell_type": "code",
   "execution_count": 1,
   "metadata": {},
   "outputs": [
    {
     "data": {
      "text/html": [
       "<div id=\"glowscript\" class=\"glowscript\"></div>"
      ],
      "text/plain": [
       "<IPython.core.display.HTML object>"
      ]
     },
     "metadata": {},
     "output_type": "display_data"
    },
    {
     "data": {
      "application/javascript": [
       "if (typeof Jupyter !== \"undefined\") { window.__context = { glowscript_container: $(\"#glowscript\").removeAttr(\"id\")};}else{ element.textContent = ' ';}"
      ],
      "text/plain": [
       "<IPython.core.display.Javascript object>"
      ]
     },
     "metadata": {},
     "output_type": "display_data"
    }
   ],
   "source": [
    "from vpython import *\n",
    "import numpy as np\n",
    "from scipy.spatial.distance import pdist\n",
    "from scipy.spatial.distance import squareform\n",
    "dt = 10\n",
    "R = 1\n",
    "max_mass=1\n",
    "G = 6.67e-11\n",
    "C=1\n",
    "\n",
    "class Ball:\n",
    "    def __init__(self,mass,position,v_start):\n",
    "        self.mass = mass\n",
    "        self.position = position #numpy array with 3 numbers\n",
    "        self.momentum = v_start*mass\n",
    "        self.radius = R\n",
    "        self.sphere = sphere(radius=self.radius,pos=toVec(self.position),color=vec(self.mass/max_mass,1,1))\n",
    "        \n",
    "    def update(self,force):\n",
    "        self.momentum+=force*dt\n",
    "        self.position+=self.momentum/self.mass*dt\n",
    "        self.sphere.pos = toVec(self.position)\n",
    "    \n",
    "    def __str__(self):\n",
    "        return str(self.position)\n",
    "\n",
    "def toVec(ar): #ar should just have 3 nums in it\n",
    "    return vec(ar[0],ar[1],ar[2])\n",
    "\n",
    "\n",
    "import time\n",
    "\n",
    "maxg = G*max_mass**2/(2*R)**2\n",
    "def gravity(balls):\n",
    "    t = time.time()\n",
    "    masses = np.array([ball.mass for ball in balls],dtype=np.float64)\n",
    "    ball_positions = np.array([ball.position for ball in balls],dtype=np.float64)\n",
    "    num_balls = ball_positions.shape[0]\n",
    "    dists = squareform(pdist(ball_positions))\n",
    "    #print(time.time()-t)\n",
    "    gravities = []\n",
    "    t = time.time()\n",
    "    for i in range(num_balls):\n",
    "        gravities.append(np.array([0,0,0],dtype=np.float64))\n",
    "        for j in range(num_balls):\n",
    "            if i==j:\n",
    "                continue\n",
    "            f = G*masses[i]*masses[j]/dists[i][j]**2\n",
    "            if f>maxg:\n",
    "                f = maxg\n",
    "            gravities[i]+=(ball_positions[j]-ball_positions[i])/np.linalg.norm(ball_positions[j]-ball_positions[i])*f\n",
    "#     for i in range(num_balls):\n",
    "#         rmat = ball_positions-np.tile(ball_positions[i],[num_balls,1])\n",
    "#         d1 = G*masses*masses[i]/(dists[i]**2+1e-100)\n",
    "#         d2 = rmat/np.tile(np.linalg.norm(rmat,axis=-1)+1e-100,[3,1]).T\n",
    "#         finalmat = np.multiply(np.tile(d1,[3,1]).T,d2)\n",
    "#         out = np.sum(finalmat,axis=0)\n",
    "#         length = np.linalg.norm(out)\n",
    "#         if length>maxg:\n",
    "#             out = out/length*maxg\n",
    "#         gravities.append(out)\n",
    "    #print(time.time()-t)\n",
    "    return gravities\n",
    "\n",
    "class Space:\n",
    "    def __init__(self,balls):\n",
    "        self.balls = balls\n",
    "        self.num_balls = len(self.balls)\n",
    "    def grav_update(self):\n",
    "        gravities = gravity(self.balls)\n",
    "        for i,ball in enumerate(self.balls):\n",
    "            ball.update(gravities[i])\n",
    "    def collision_update(self):\n",
    "        ballmat = np.array([ball.position for ball in self.balls])\n",
    "        dists = squareform(pdist(ballmat))\n",
    "        np.fill_diagonal(dists,3*R)\n",
    "        simple = dists-2*R\n",
    "        colliders = np.nonzero(simple*(simple<0))\n",
    "        if colliders[0].shape[0]!=0:\n",
    "            to_add = [np.array([0,0,0],dtype=np.float64) for _ in range(len(self.balls))]\n",
    "            for i in range(int(colliders[0].shape[0]/2+1)):\n",
    "                row,col = colliders[0][i],colliders[1][i]\n",
    "                ball1,ball2 = self.balls[row],self.balls[col]\n",
    "                \n",
    "                rrel = ball2.position-ball1.position\n",
    "                v1 = ball1.momentum/ball1.mass\n",
    "                v2 = ball2.momentum/ball2.mass\n",
    "                vrel = v1-v2\n",
    "                if np.linalg.norm(vrel)==0:\n",
    "                    continue\n",
    "                del_t = 2*R/(np.linalg.norm(rrel+vrel))\n",
    "                ball1.position-=v1*del_t\n",
    "                ball2.position-=v2*del_t\n",
    "                \n",
    "                rrel = ball2.position-ball1.position\n",
    "                rrel_hat = rrel/np.linalg.norm(rrel)\n",
    "                vcm = (ball1.momentum+ball2.momentum)/(ball1.mass + ball2.mass)\n",
    "                v1cm = v1-vcm\n",
    "                v2cm = v2-vcm\n",
    "\n",
    "                #really just subtracting 2*projection of v1 onto rrel\n",
    "                to_add[row] += v1cm-2*np.dot(v1cm,rrel_hat)*rrel_hat + vcm\n",
    "                to_add[col] += v2cm-2*np.dot(v2cm,rrel_hat)*rrel_hat + vcm\n",
    "                \n",
    "            for add,ball in zip(to_add,self.balls):\n",
    "                if np.linalg.norm(add)!=0:\n",
    "                    ball.momentum = add*ball.mass*C\n",
    "                    ball.position+=dt*(ball.momentum/ball.mass)"
   ]
  },
  {
   "cell_type": "code",
   "execution_count": 2,
   "metadata": {},
   "outputs": [
    {
     "data": {
      "application/javascript": [
       "if (typeof Jupyter !== \"undefined\") {require.undef(\"nbextensions/vpython_libraries/glow.min\");}else{element.textContent = ' ';}"
      ],
      "text/plain": [
       "<IPython.core.display.Javascript object>"
      ]
     },
     "metadata": {},
     "output_type": "display_data"
    },
    {
     "data": {
      "application/javascript": [
       "if (typeof Jupyter !== \"undefined\") {require.undef(\"nbextensions/vpython_libraries/glowcomm\");}else{element.textContent = ' ';}"
      ],
      "text/plain": [
       "<IPython.core.display.Javascript object>"
      ]
     },
     "metadata": {},
     "output_type": "display_data"
    },
    {
     "data": {
      "application/javascript": [
       "if (typeof Jupyter !== \"undefined\") {require.undef(\"nbextensions/vpython_libraries/jquery-ui.custom.min\");}else{element.textContent = ' ';}"
      ],
      "text/plain": [
       "<IPython.core.display.Javascript object>"
      ]
     },
     "metadata": {},
     "output_type": "display_data"
    },
    {
     "data": {
      "application/javascript": [
       "if (typeof Jupyter !== \"undefined\") {require([\"nbextensions/vpython_libraries/glow.min\"], function(){console.log(\"GLOW LOADED\");});}else{element.textContent = ' ';}"
      ],
      "text/plain": [
       "<IPython.core.display.Javascript object>"
      ]
     },
     "metadata": {},
     "output_type": "display_data"
    },
    {
     "data": {
      "application/javascript": [
       "if (typeof Jupyter !== \"undefined\") {require([\"nbextensions/vpython_libraries/glowcomm\"], function(){console.log(\"GLOWCOMM LOADED\");});}else{element.textContent = ' ';}"
      ],
      "text/plain": [
       "<IPython.core.display.Javascript object>"
      ]
     },
     "metadata": {},
     "output_type": "display_data"
    },
    {
     "data": {
      "application/javascript": [
       "if (typeof Jupyter !== \"undefined\") {require([\"nbextensions/vpython_libraries/jquery-ui.custom.min\"], function(){console.log(\"JQUERY LOADED\");});}else{element.textContent = ' ';}"
      ],
      "text/plain": [
       "<IPython.core.display.Javascript object>"
      ]
     },
     "metadata": {},
     "output_type": "display_data"
    },
    {
     "name": "stdout",
     "output_type": "stream",
     "text": [
      "made space!\n",
      "1000\n",
      "15.82077693939209\n",
      "2000\n",
      "34.76995396614075\n",
      "3000\n",
      "50.00481104850769\n"
     ]
    },
    {
     "ename": "KeyboardInterrupt",
     "evalue": "",
     "output_type": "error",
     "traceback": [
      "\u001b[0;31m---------------------------------------------------------------------------\u001b[0m",
      "\u001b[0;31mKeyboardInterrupt\u001b[0m                         Traceback (most recent call last)",
      "\u001b[0;32m<ipython-input-2-5a2aac3df361>\u001b[0m in \u001b[0;36m<module>\u001b[0;34m\u001b[0m\n\u001b[1;32m     44\u001b[0m \u001b[0mspace\u001b[0m \u001b[0;34m=\u001b[0m \u001b[0mgenSpace2\u001b[0m\u001b[0;34m(\u001b[0m\u001b[0;34m)\u001b[0m\u001b[0;34m\u001b[0m\u001b[0;34m\u001b[0m\u001b[0m\n\u001b[1;32m     45\u001b[0m \u001b[0mprint\u001b[0m\u001b[0;34m(\u001b[0m\u001b[0;34m'made space!'\u001b[0m\u001b[0;34m)\u001b[0m\u001b[0;34m\u001b[0m\u001b[0;34m\u001b[0m\u001b[0m\n\u001b[0;32m---> 46\u001b[0;31m \u001b[0mexecute\u001b[0m\u001b[0;34m(\u001b[0m\u001b[0mspace\u001b[0m\u001b[0;34m)\u001b[0m\u001b[0;34m\u001b[0m\u001b[0;34m\u001b[0m\u001b[0m\n\u001b[0m",
      "\u001b[0;32m<ipython-input-2-5a2aac3df361>\u001b[0m in \u001b[0;36mexecute\u001b[0;34m(space)\u001b[0m\n\u001b[1;32m     30\u001b[0m     \u001b[0mcount\u001b[0m \u001b[0;34m=\u001b[0m \u001b[0;36m0\u001b[0m\u001b[0;34m\u001b[0m\u001b[0;34m\u001b[0m\u001b[0m\n\u001b[1;32m     31\u001b[0m     \u001b[0;32mwhile\u001b[0m \u001b[0mt\u001b[0m\u001b[0;34m<=\u001b[0m\u001b[0;36m10000000\u001b[0m\u001b[0;34m:\u001b[0m\u001b[0;34m\u001b[0m\u001b[0;34m\u001b[0m\u001b[0m\n\u001b[0;32m---> 32\u001b[0;31m         \u001b[0mspace\u001b[0m\u001b[0;34m.\u001b[0m\u001b[0mgrav_update\u001b[0m\u001b[0;34m(\u001b[0m\u001b[0;34m)\u001b[0m\u001b[0;34m\u001b[0m\u001b[0;34m\u001b[0m\u001b[0m\n\u001b[0m\u001b[1;32m     33\u001b[0m         \u001b[0mspace\u001b[0m\u001b[0;34m.\u001b[0m\u001b[0mcollision_update\u001b[0m\u001b[0;34m(\u001b[0m\u001b[0;34m)\u001b[0m\u001b[0;34m\u001b[0m\u001b[0;34m\u001b[0m\u001b[0m\n\u001b[1;32m     34\u001b[0m         \u001b[0mplot\u001b[0m\u001b[0;34m.\u001b[0m\u001b[0mplot\u001b[0m\u001b[0;34m(\u001b[0m\u001b[0mt\u001b[0m\u001b[0;34m,\u001b[0m\u001b[0mspace\u001b[0m\u001b[0;34m.\u001b[0m\u001b[0mballs\u001b[0m\u001b[0;34m[\u001b[0m\u001b[0;36m0\u001b[0m\u001b[0;34m]\u001b[0m\u001b[0;34m.\u001b[0m\u001b[0mposition\u001b[0m\u001b[0;34m[\u001b[0m\u001b[0;36m0\u001b[0m\u001b[0;34m]\u001b[0m\u001b[0;34m)\u001b[0m\u001b[0;34m\u001b[0m\u001b[0;34m\u001b[0m\u001b[0m\n",
      "\u001b[0;32m<ipython-input-1-021a4b2e9be7>\u001b[0m in \u001b[0;36mgrav_update\u001b[0;34m(self)\u001b[0m\n\u001b[1;32m     68\u001b[0m         \u001b[0mself\u001b[0m\u001b[0;34m.\u001b[0m\u001b[0mnum_balls\u001b[0m \u001b[0;34m=\u001b[0m \u001b[0mlen\u001b[0m\u001b[0;34m(\u001b[0m\u001b[0mself\u001b[0m\u001b[0;34m.\u001b[0m\u001b[0mballs\u001b[0m\u001b[0;34m)\u001b[0m\u001b[0;34m\u001b[0m\u001b[0;34m\u001b[0m\u001b[0m\n\u001b[1;32m     69\u001b[0m     \u001b[0;32mdef\u001b[0m \u001b[0mgrav_update\u001b[0m\u001b[0;34m(\u001b[0m\u001b[0mself\u001b[0m\u001b[0;34m)\u001b[0m\u001b[0;34m:\u001b[0m\u001b[0;34m\u001b[0m\u001b[0;34m\u001b[0m\u001b[0m\n\u001b[0;32m---> 70\u001b[0;31m         \u001b[0mgravities\u001b[0m \u001b[0;34m=\u001b[0m \u001b[0mgravity\u001b[0m\u001b[0;34m(\u001b[0m\u001b[0mself\u001b[0m\u001b[0;34m.\u001b[0m\u001b[0mballs\u001b[0m\u001b[0;34m)\u001b[0m\u001b[0;34m\u001b[0m\u001b[0;34m\u001b[0m\u001b[0m\n\u001b[0m\u001b[1;32m     71\u001b[0m         \u001b[0;32mfor\u001b[0m \u001b[0mi\u001b[0m\u001b[0;34m,\u001b[0m\u001b[0mball\u001b[0m \u001b[0;32min\u001b[0m \u001b[0menumerate\u001b[0m\u001b[0;34m(\u001b[0m\u001b[0mself\u001b[0m\u001b[0;34m.\u001b[0m\u001b[0mballs\u001b[0m\u001b[0;34m)\u001b[0m\u001b[0;34m:\u001b[0m\u001b[0;34m\u001b[0m\u001b[0;34m\u001b[0m\u001b[0m\n\u001b[1;32m     72\u001b[0m             \u001b[0mball\u001b[0m\u001b[0;34m.\u001b[0m\u001b[0mupdate\u001b[0m\u001b[0;34m(\u001b[0m\u001b[0mgravities\u001b[0m\u001b[0;34m[\u001b[0m\u001b[0mi\u001b[0m\u001b[0;34m]\u001b[0m\u001b[0;34m)\u001b[0m\u001b[0;34m\u001b[0m\u001b[0;34m\u001b[0m\u001b[0m\n",
      "\u001b[0;32m<ipython-input-1-021a4b2e9be7>\u001b[0m in \u001b[0;36mgravity\u001b[0;34m(balls)\u001b[0m\n\u001b[1;32m     49\u001b[0m             \u001b[0;32mif\u001b[0m \u001b[0mf\u001b[0m\u001b[0;34m>\u001b[0m\u001b[0mmaxg\u001b[0m\u001b[0;34m:\u001b[0m\u001b[0;34m\u001b[0m\u001b[0;34m\u001b[0m\u001b[0m\n\u001b[1;32m     50\u001b[0m                 \u001b[0mf\u001b[0m \u001b[0;34m=\u001b[0m \u001b[0mmaxg\u001b[0m\u001b[0;34m\u001b[0m\u001b[0;34m\u001b[0m\u001b[0m\n\u001b[0;32m---> 51\u001b[0;31m             \u001b[0mgravities\u001b[0m\u001b[0;34m[\u001b[0m\u001b[0mi\u001b[0m\u001b[0;34m]\u001b[0m\u001b[0;34m+=\u001b[0m\u001b[0;34m(\u001b[0m\u001b[0mball_positions\u001b[0m\u001b[0;34m[\u001b[0m\u001b[0mj\u001b[0m\u001b[0;34m]\u001b[0m\u001b[0;34m-\u001b[0m\u001b[0mball_positions\u001b[0m\u001b[0;34m[\u001b[0m\u001b[0mi\u001b[0m\u001b[0;34m]\u001b[0m\u001b[0;34m)\u001b[0m\u001b[0;34m/\u001b[0m\u001b[0mnp\u001b[0m\u001b[0;34m.\u001b[0m\u001b[0mlinalg\u001b[0m\u001b[0;34m.\u001b[0m\u001b[0mnorm\u001b[0m\u001b[0;34m(\u001b[0m\u001b[0mball_positions\u001b[0m\u001b[0;34m[\u001b[0m\u001b[0mj\u001b[0m\u001b[0;34m]\u001b[0m\u001b[0;34m-\u001b[0m\u001b[0mball_positions\u001b[0m\u001b[0;34m[\u001b[0m\u001b[0mi\u001b[0m\u001b[0;34m]\u001b[0m\u001b[0;34m)\u001b[0m\u001b[0;34m*\u001b[0m\u001b[0mf\u001b[0m\u001b[0;34m\u001b[0m\u001b[0;34m\u001b[0m\u001b[0m\n\u001b[0m\u001b[1;32m     52\u001b[0m \u001b[0;31m#     for i in range(num_balls):\u001b[0m\u001b[0;34m\u001b[0m\u001b[0;34m\u001b[0m\u001b[0;34m\u001b[0m\u001b[0m\n\u001b[1;32m     53\u001b[0m \u001b[0;31m#         rmat = ball_positions-np.tile(ball_positions[i],[num_balls,1])\u001b[0m\u001b[0;34m\u001b[0m\u001b[0;34m\u001b[0m\u001b[0;34m\u001b[0m\u001b[0m\n",
      "\u001b[0;31mKeyboardInterrupt\u001b[0m: "
     ]
    }
   ],
   "source": [
    "def makePlanet(corner):\n",
    "    balls = []\n",
    "    for i in range(2):\n",
    "        for j in range(2):\n",
    "            balls.append(Ball(1e24,np.array([i*R*3,j*R*3,0])+corner,np.zeros(3)))\n",
    "    return balls\n",
    "def genSpace():\n",
    "    p1 = makePlanet(np.zeros(3))\n",
    "    p2 = makePlanet(np.ones(3)*5*R)\n",
    "    space = Space(p1+p2)\n",
    "    return space\n",
    "\n",
    "def genSpace2():\n",
    "    balls = []\n",
    "    for i in range(3):\n",
    "        for j in range(3):\n",
    "            for k in range(3):\n",
    "                balls.append(Ball(max_mass,np.array([i*R*3,j*R*3,k*R*3],dtype=np.float64),np.zeros(3)))\n",
    "    return Space(balls)\n",
    "\n",
    "def genSpace3():\n",
    "    balls = []\n",
    "    for i in range(4):\n",
    "        balls.append(Ball(max_mass,np.array([i*R*3,5,5],dtype=np.float64),np.zeros(3)))\n",
    "    return Space(balls)\n",
    "def execute(space):\n",
    "    start = time.time()\n",
    "    t = 0\n",
    "    plot = gcurve()\n",
    "    count = 0\n",
    "    while t<=10000000:\n",
    "        space.grav_update()\n",
    "        space.collision_update()\n",
    "        plot.plot(t,space.balls[0].position[0])\n",
    "        t+=dt\n",
    "        rate(1000000)\n",
    "        count+=1\n",
    "        if (count+1)%1000==0:\n",
    "            print(count+1)\n",
    "            print(time.time()-start)\n",
    "            \n",
    "dt = 100\n",
    "C=.5\n",
    "space = genSpace2()\n",
    "print('made space!')\n",
    "execute(space)"
   ]
  },
  {
   "cell_type": "code",
   "execution_count": 1,
   "metadata": {},
   "outputs": [
    {
     "data": {
      "text/html": [
       "<div id=\"glowscript\" class=\"glowscript\"></div>"
      ],
      "text/plain": [
       "<IPython.core.display.HTML object>"
      ]
     },
     "metadata": {},
     "output_type": "display_data"
    },
    {
     "data": {
      "application/javascript": [
       "if (typeof Jupyter !== \"undefined\") { window.__context = { glowscript_container: $(\"#glowscript\").removeAttr(\"id\")};}else{ element.textContent = ' ';}"
      ],
      "text/plain": [
       "<IPython.core.display.Javascript object>"
      ]
     },
     "metadata": {},
     "output_type": "display_data"
    }
   ],
   "source": [
    "from vpython import *"
   ]
  },
  {
   "cell_type": "code",
   "execution_count": 2,
   "metadata": {},
   "outputs": [
    {
     "data": {
      "text/html": [
       "<div id=\"glowscript\" class=\"glowscript\"></div>"
      ],
      "text/plain": [
       "<IPython.core.display.HTML object>"
      ]
     },
     "metadata": {},
     "output_type": "display_data"
    },
    {
     "data": {
      "application/javascript": [
       "if (typeof Jupyter !== \"undefined\") { window.__context = { glowscript_container: $(\"#glowscript\").removeAttr(\"id\")};}else{ element.textContent = ' ';}"
      ],
      "text/plain": [
       "<IPython.core.display.Javascript object>"
      ]
     },
     "metadata": {},
     "output_type": "display_data"
    },
    {
     "data": {
      "application/javascript": [
       "if (typeof Jupyter !== \"undefined\") {require.undef(\"nbextensions/vpython_libraries/glow.min\");}else{element.textContent = ' ';}"
      ],
      "text/plain": [
       "<IPython.core.display.Javascript object>"
      ]
     },
     "metadata": {},
     "output_type": "display_data"
    },
    {
     "data": {
      "application/javascript": [
       "if (typeof Jupyter !== \"undefined\") {require.undef(\"nbextensions/vpython_libraries/glowcomm\");}else{element.textContent = ' ';}"
      ],
      "text/plain": [
       "<IPython.core.display.Javascript object>"
      ]
     },
     "metadata": {},
     "output_type": "display_data"
    },
    {
     "data": {
      "application/javascript": [
       "if (typeof Jupyter !== \"undefined\") {require.undef(\"nbextensions/vpython_libraries/jquery-ui.custom.min\");}else{element.textContent = ' ';}"
      ],
      "text/plain": [
       "<IPython.core.display.Javascript object>"
      ]
     },
     "metadata": {},
     "output_type": "display_data"
    },
    {
     "data": {
      "application/javascript": [
       "if (typeof Jupyter !== \"undefined\") {require([\"nbextensions/vpython_libraries/glow.min\"], function(){console.log(\"GLOW LOADED\");});}else{element.textContent = ' ';}"
      ],
      "text/plain": [
       "<IPython.core.display.Javascript object>"
      ]
     },
     "metadata": {},
     "output_type": "display_data"
    },
    {
     "data": {
      "application/javascript": [
       "if (typeof Jupyter !== \"undefined\") {require([\"nbextensions/vpython_libraries/glowcomm\"], function(){console.log(\"GLOWCOMM LOADED\");});}else{element.textContent = ' ';}"
      ],
      "text/plain": [
       "<IPython.core.display.Javascript object>"
      ]
     },
     "metadata": {},
     "output_type": "display_data"
    },
    {
     "data": {
      "application/javascript": [
       "if (typeof Jupyter !== \"undefined\") {require([\"nbextensions/vpython_libraries/jquery-ui.custom.min\"], function(){console.log(\"JQUERY LOADED\");});}else{element.textContent = ' ';}"
      ],
      "text/plain": [
       "<IPython.core.display.Javascript object>"
      ]
     },
     "metadata": {},
     "output_type": "display_data"
    },
    {
     "ename": "KeyboardInterrupt",
     "evalue": "",
     "output_type": "error",
     "traceback": [
      "\u001b[0;31m---------------------------------------------------------------------------\u001b[0m",
      "\u001b[0;31mKeyboardInterrupt\u001b[0m                         Traceback (most recent call last)",
      "\u001b[0;32m<ipython-input-2-787a753f961f>\u001b[0m in \u001b[0;36m<module>\u001b[0;34m\u001b[0m\n\u001b[1;32m    153\u001b[0m             \u001b[0;32mif\u001b[0m \u001b[0mmag\u001b[0m\u001b[0;34m(\u001b[0m\u001b[0mf\u001b[0m\u001b[0;34m)\u001b[0m\u001b[0;34m>\u001b[0m\u001b[0mgmax\u001b[0m\u001b[0;34m:\u001b[0m\u001b[0;34m\u001b[0m\u001b[0;34m\u001b[0m\u001b[0m\n\u001b[1;32m    154\u001b[0m                 \u001b[0mf\u001b[0m \u001b[0;34m=\u001b[0m \u001b[0mnorm\u001b[0m\u001b[0;34m(\u001b[0m\u001b[0mf\u001b[0m\u001b[0;34m)\u001b[0m\u001b[0;34m*\u001b[0m\u001b[0mgmax\u001b[0m\u001b[0;34m\u001b[0m\u001b[0;34m\u001b[0m\u001b[0m\n\u001b[0;32m--> 155\u001b[0;31m             \u001b[0mp\u001b[0m\u001b[0;34m[\u001b[0m\u001b[0mj\u001b[0m\u001b[0;34m]\u001b[0m\u001b[0;34m+=\u001b[0m\u001b[0mf\u001b[0m\u001b[0;34m*\u001b[0m\u001b[0mdt\u001b[0m\u001b[0;34m\u001b[0m\u001b[0;34m\u001b[0m\u001b[0m\n\u001b[0m\u001b[1;32m    156\u001b[0m \u001b[0;34m\u001b[0m\u001b[0m\n\u001b[1;32m    157\u001b[0m \u001b[0;34m\u001b[0m\u001b[0m\n",
      "\u001b[0;31mKeyboardInterrupt\u001b[0m: "
     ]
    }
   ],
   "source": [
    "\n",
    "# Hard-sphere gas.\n",
    "\n",
    "# Bruce Sherwood\n",
    "\n",
    "win = 500\n",
    "CC =.5\n",
    "G = 6.67e-11\n",
    "\n",
    "planet_side = 5\n",
    "Natoms = 2*planet_side**3 # change this to have more or fewer atoms\n",
    "\n",
    "# Typical values\n",
    "L = 3 # container is a cube L on a side\n",
    "gray = color.gray(0.7) # color of edges of container\n",
    "mass = 1e3 # helium mass\n",
    "Ratom = 0.03 # wildly exaggerated size of helium atom\n",
    "k = 1.4E-23 # Boltzmann constant\n",
    "T = 300 # around room temperature\n",
    "dt = 1\n",
    "\n",
    "center1 = vec(-L/4,-L/4,-L/4)\n",
    "center2 = vec(L/4,L/4,L/4)\n",
    "\n",
    "animation = canvas( width=win, height=win, align='left')\n",
    "animation.range = L\n",
    "animation.title = 'A \"hard-sphere\" gas'\n",
    "s = \"\"\"  Theoretical and averaged speed distributions (meters/sec).\n",
    "  Initially all atoms have the same speed, but collisions\n",
    "  change the speeds of the colliding atoms. One of the atoms is\n",
    "  marked and leaves a trail so you can follow its path.\n",
    "  \n",
    "\"\"\"\n",
    "animation.caption = s\n",
    "\n",
    "d = L/2+Ratom\n",
    "r = 0.005\n",
    "boxbottom = curve(color=gray, radius=r)\n",
    "boxbottom.append([vector(-d,-d,-d), vector(-d,-d,d), vector(d,-d,d), vector(d,-d,-d), vector(-d,-d,-d)])\n",
    "boxtop = curve(color=gray, radius=r)\n",
    "boxtop.append([vector(-d,d,-d), vector(-d,d,d), vector(d,d,d), vector(d,d,-d), vector(-d,d,-d)])\n",
    "vert1 = curve(color=gray, radius=r)\n",
    "vert2 = curve(color=gray, radius=r)\n",
    "vert3 = curve(color=gray, radius=r)\n",
    "vert4 = curve(color=gray, radius=r)\n",
    "vert1.append([vector(-d,-d,-d), vector(-d,d,-d)])\n",
    "vert2.append([vector(-d,-d,d), vector(-d,d,d)])\n",
    "vert3.append([vector(d,-d,d), vector(d,d,d)])\n",
    "vert4.append([vector(d,-d,-d), vector(d,d,-d)])\n",
    "\n",
    "Atoms = []\n",
    "p = []\n",
    "apos = []\n",
    "pavg = mass*1e-3 # average kinetic energy p**2/(2mass) = (3/2)kT\n",
    "\n",
    "gmax = mass**2*G/(2*r)**2\n",
    "\n",
    "for j1 in range(planet_side):\n",
    "    for j2 in range(planet_side):\n",
    "        for j3 in range(planet_side):\n",
    "            posit = center1 + 3*Ratom*vec(j1,j2,j3)\n",
    "            Atoms.append(sphere(pos=posit, radius=Ratom, color=gray))\n",
    "            apos.append(posit)\n",
    "for j1 in range(planet_side):\n",
    "    for j2 in range(planet_side):\n",
    "        for j3 in range(planet_side):\n",
    "            posit = center2 + 3*Ratom*vec(j1,j2,j3)\n",
    "            Atoms.append(sphere(pos=posit, radius=Ratom, color=gray))\n",
    "            apos.append(posit)\n",
    "#    x = L*random()-L/2\n",
    "#    y = L*random()-L/2\n",
    "#    z = L*random()-L/2\n",
    "#    if i == 0:\n",
    "#        Atoms.append(sphere(pos=vector(x,y,z), radius=Ratom, color=color.cyan, make_trail=True, retain=100, trail_radius=0.3*Ratom))\n",
    "#    else: Atoms.append(sphere(pos=vector(x,y,z), radius=Ratom, color=gray))\n",
    "#    apos.append(vec(x,y,z))\n",
    "#    theta = pi*random()\n",
    "#    phi = 2*pi*random()\n",
    "#    px = pavg*sin(theta)*cos(phi)\n",
    "#    py = pavg*sin(theta)*sin(phi)\n",
    "#    pz = pavg*cos(theta)\n",
    "#    p.append(vector(px,py,pz))\n",
    "for i in range(Natoms):\n",
    "    p.append(vector(0,0,0))\n",
    "\n",
    "deltav = 100 # binning for v histogram\n",
    "\n",
    "def barx(v):\n",
    "    return int(v/deltav) # index into bars array\n",
    "\n",
    "nhisto = int(4500/deltav)\n",
    "histo = []\n",
    "for i in range(nhisto): histo.append(0.0)\n",
    "histo[barx(pavg/mass)] = Natoms\n",
    "\n",
    "gg = graph( width=win, height=0.4*win, xmax=3000, align='left',\n",
    "    xtitle='speed, m/s', ytitle='Number of atoms', ymax=Natoms*deltav/1000)\n",
    "\n",
    "theory = gcurve( color=color.cyan )\n",
    "dv = 10\n",
    "for v in range(0,3001+dv,dv):  # theoretical prediction\n",
    "    theory.plot( v, (deltav/dv)*Natoms*4*pi*((mass/(2*pi*k*T))**1.5) *exp(-0.5*mass*(v**2)/(k*T))*(v**2)*dv )\n",
    "\n",
    "accum = []\n",
    "for i in range(int(3000/deltav)): accum.append([deltav*(i+.5),0])\n",
    "vdist = gvbars(color=color.red, delta=deltav )\n",
    "\n",
    "def interchange(v1, v2):  # remove from v1 bar, add to v2 bar\n",
    "    barx1 = barx(v1)\n",
    "    barx2 = barx(v2)\n",
    "    if barx1 == barx2:  return\n",
    "    if barx1 >= len(histo) or barx2 >= len(histo): return\n",
    "    histo[barx1] -= 1\n",
    "    histo[barx2] += 1\n",
    "    \n",
    "def checkCollisions():\n",
    "    hitlist = []\n",
    "    r2 = 2*Ratom\n",
    "    r2 *= r2\n",
    "    for i in range(Natoms):\n",
    "        ai = apos[i]\n",
    "        for j in range(i) :\n",
    "            aj = apos[j]\n",
    "            dr = ai - aj\n",
    "            if mag2(dr) < r2: hitlist.append([i,j])\n",
    "    return hitlist\n",
    "\n",
    "nhisto = 0 # number of histogram snapshots to average\n",
    "\n",
    "while True:\n",
    "    rate(300)\n",
    "    # Accumulate and average histogram snapshots\n",
    "    for i in range(len(accum)): accum[i][1] = (nhisto*accum[i][1] + histo[i])/(nhisto+1)\n",
    "    if nhisto % 10 == 0:\n",
    "        vdist.data = accum\n",
    "    nhisto += 1\n",
    "\n",
    "    # Update all positions\n",
    "    for i in range(Natoms): Atoms[i].pos = apos[i] = apos[i] + (p[i]/mass)*dt\n",
    "    \n",
    "    for i in range(Natoms):\n",
    "        for j in range(Natoms):\n",
    "            if i==j:\n",
    "                continue\n",
    "            atomi = apos[i]\n",
    "            atomj = apos[j]\n",
    "            if mag2(atomi-atomj)==0:\n",
    "                print('oops')\n",
    "                print(i)\n",
    "                print(j)\n",
    "                break\n",
    "            f = G*mass**2/mag2(atomi-atomj)*norm(atomi-atomj)\n",
    "            if mag(f)>gmax:\n",
    "                f = norm(f)*gmax\n",
    "            p[j]+=f*dt\n",
    "            \n",
    "    \n",
    "    # Check for collisions\n",
    "    hitlist = checkCollisions()\n",
    "\n",
    "    # If any collisions took place, update momenta of the two atoms\n",
    "    for ij in hitlist:\n",
    "        i = ij[0]\n",
    "        j = ij[1]\n",
    "        ptot = p[i]+p[j]\n",
    "        posi = apos[i]\n",
    "        posj = apos[j]\n",
    "        vi = p[i]/mass\n",
    "        vj = p[j]/mass\n",
    "        vrel = vj-vi\n",
    "\n",
    "        a = vrel.mag2\n",
    "        if a == 0: continue;  # exactly same velocities\n",
    "        rrel = posi-posj\n",
    "        if rrel.mag > Ratom:\n",
    "            continue # one atom went all the way through another\n",
    "    \n",
    "        # theta is the angle between vrel and rrel:\n",
    "        dx = dot(rrel, vrel.hat)       # rrel.mag*cos(theta)\n",
    "        dy = cross(rrel, vrel.hat).mag # rrel.mag*sin(theta)\n",
    "        # alpha is the angle of the triangle composed of rrel, path of atom j, and a line\n",
    "        #   from the center of atom i to the center of atom j where atome j hits atom i:\n",
    "        alpha = asin(dy/(2*Ratom)) \n",
    "        d = (2*Ratom)*cos(alpha)-dx # distance traveled into the atom from first contact\n",
    "        deltat = d/vrel.mag         # time spent moving from first contact to position inside atom\n",
    "        posi = posi-vi*deltat # back up to contact configuration\n",
    "        posj = posj-vj*deltat\n",
    "        mtot = 2*mass\n",
    "        pcmi = p[i]-ptot*mass/mtot # transform momenta to cm frame\n",
    "        pcmj = p[j]-ptot*mass/mtot\n",
    "        rrel = norm(rrel)\n",
    "        pcmi = (pcmi-2*pcmi.dot(rrel)*rrel)*CC # bounce in cm frame\n",
    "        pcmj = (pcmj-2*pcmj.dot(rrel)*rrel)*CC\n",
    "        p[i] = pcmi+ptot*mass/mtot # transform momenta back to lab frame\n",
    "        p[j] = pcmj+ptot*mass/mtot\n",
    "        apos[i] = posi+(p[i]/mass)*deltat # move forward deltat in time\n",
    "        apos[j] = posj+(p[j]/mass)*deltat\n",
    "        interchange(vi.mag, p[i].mag/mass)\n",
    "        interchange(vj.mag, p[j].mag/mass)"
   ]
  },
  {
   "cell_type": "code",
   "execution_count": null,
   "metadata": {},
   "outputs": [],
   "source": []
  }
 ],
 "metadata": {
  "kernelspec": {
   "display_name": "VPython",
   "language": "python",
   "name": "vpython"
  },
  "language_info": {
   "codemirror_mode": {
    "name": "ipython",
    "version": 3
   },
   "file_extension": ".py",
   "mimetype": "text/x-python",
   "name": "python",
   "nbconvert_exporter": "python",
   "pygments_lexer": "ipython3",
   "version": "3.6.8"
  }
 },
 "nbformat": 4,
 "nbformat_minor": 2
}
